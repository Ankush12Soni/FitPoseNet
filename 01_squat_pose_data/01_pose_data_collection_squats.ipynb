{
 "cells": [
  {
   "cell_type": "markdown",
   "id": "331f3a76",
   "metadata": {},
   "source": [
    "Required Packages for extracting data from youtube videos"
   ]
  },
  {
   "cell_type": "code",
   "execution_count": 4,
   "id": "8d41fc0f",
   "metadata": {},
   "outputs": [
    {
     "name": "stdout",
     "output_type": "stream",
     "text": [
      "Collecting yt-dlp\n",
      "  Downloading yt_dlp-2025.6.30-py3-none-any.whl.metadata (174 kB)\n",
      "Downloading yt_dlp-2025.6.30-py3-none-any.whl (3.3 MB)\n",
      "   ---------------------------------------- 0.0/3.3 MB ? eta -:--:--\n",
      "   ---------------------------------------- 0.0/3.3 MB ? eta -:--:--\n",
      "   ---------------------------------------- 0.0/3.3 MB ? eta -:--:--\n",
      "   ---------------------------------------- 0.0/3.3 MB ? eta -:--:--\n",
      "   ---------------------------------------- 0.0/3.3 MB ? eta -:--:--\n",
      "   --- ------------------------------------ 0.3/3.3 MB ? eta -:--:--\n",
      "   --- ------------------------------------ 0.3/3.3 MB ? eta -:--:--\n",
      "   --- ------------------------------------ 0.3/3.3 MB ? eta -:--:--\n",
      "   ------ --------------------------------- 0.5/3.3 MB 441.3 kB/s eta 0:00:07\n",
      "   ------ --------------------------------- 0.5/3.3 MB 441.3 kB/s eta 0:00:07\n",
      "   ------ --------------------------------- 0.5/3.3 MB 441.3 kB/s eta 0:00:07\n",
      "   --------- ------------------------------ 0.8/3.3 MB 435.8 kB/s eta 0:00:06\n",
      "   --------- ------------------------------ 0.8/3.3 MB 435.8 kB/s eta 0:00:06\n",
      "   --------- ------------------------------ 0.8/3.3 MB 435.8 kB/s eta 0:00:06\n",
      "   ------------ --------------------------- 1.0/3.3 MB 457.5 kB/s eta 0:00:05\n",
      "   ------------ --------------------------- 1.0/3.3 MB 457.5 kB/s eta 0:00:05\n",
      "   --------------- ------------------------ 1.3/3.3 MB 469.2 kB/s eta 0:00:05\n",
      "   --------------- ------------------------ 1.3/3.3 MB 469.2 kB/s eta 0:00:05\n",
      "   --------------- ------------------------ 1.3/3.3 MB 469.2 kB/s eta 0:00:05\n",
      "   ------------------- -------------------- 1.6/3.3 MB 458.3 kB/s eta 0:00:04\n",
      "   ------------------- -------------------- 1.6/3.3 MB 458.3 kB/s eta 0:00:04\n",
      "   ---------------------- ----------------- 1.8/3.3 MB 498.2 kB/s eta 0:00:03\n",
      "   ---------------------- ----------------- 1.8/3.3 MB 498.2 kB/s eta 0:00:03\n",
      "   ------------------------- -------------- 2.1/3.3 MB 493.4 kB/s eta 0:00:03\n",
      "   ---------------------------- ----------- 2.4/3.3 MB 532.5 kB/s eta 0:00:02\n",
      "   ---------------------------- ----------- 2.4/3.3 MB 532.5 kB/s eta 0:00:02\n",
      "   ------------------------------- -------- 2.6/3.3 MB 553.0 kB/s eta 0:00:02\n",
      "   ------------------------------- -------- 2.6/3.3 MB 553.0 kB/s eta 0:00:02\n",
      "   ----------------------------------- ---- 2.9/3.3 MB 568.6 kB/s eta 0:00:01\n",
      "   -------------------------------------- - 3.1/3.3 MB 584.0 kB/s eta 0:00:01\n",
      "   -------------------------------------- - 3.1/3.3 MB 584.0 kB/s eta 0:00:01\n",
      "   ---------------------------------------- 3.3/3.3 MB 573.0 kB/s eta 0:00:00\n",
      "Installing collected packages: yt-dlp\n",
      "Successfully installed yt-dlp-2025.6.30\n",
      "Note: you may need to restart the kernel to use updated packages.\n"
     ]
    },
    {
     "name": "stderr",
     "output_type": "stream",
     "text": [
      "WARNING: Ignoring invalid distribution ~atplotlib (c:\\Users\\ankus\\AppData\\Local\\Programs\\Python\\Python312\\Lib\\site-packages)\n",
      "WARNING: Ignoring invalid distribution ~atplotlib (c:\\Users\\ankus\\AppData\\Local\\Programs\\Python\\Python312\\Lib\\site-packages)\n",
      "WARNING: Ignoring invalid distribution ~atplotlib (c:\\Users\\ankus\\AppData\\Local\\Programs\\Python\\Python312\\Lib\\site-packages)\n"
     ]
    }
   ],
   "source": [
    "%pip install yt-dlp\n"
   ]
  },
  {
   "cell_type": "markdown",
   "id": "1680d701",
   "metadata": {},
   "source": [
    "Collecting Data For Correct and Incorrect Squats pose"
   ]
  },
  {
   "cell_type": "code",
   "execution_count": 16,
   "id": "abd17d2b",
   "metadata": {},
   "outputs": [
    {
     "name": "stdout",
     "output_type": "stream",
     "text": [
      "Downloaded: squat_10.mp4\n"
     ]
    }
   ],
   "source": [
    "import os\n",
    "\n",
    "video_url = \"https://youtu.be/gzd9gcsr4Bs?si=JJqa45uShBd-LuUq\"  # Example: squat\n",
    "video_filename = \"squat_10.mp4\"\n",
    "\n",
    "# Download best available mp4 video\n",
    "os.system(f'yt-dlp -f \"best[ext=mp4]\" -o \"{video_filename}\" {video_url}')\n",
    "print(\"Downloaded:\", video_filename)\n"
   ]
  },
  {
   "cell_type": "code",
   "execution_count": 20,
   "id": "5e8b8408",
   "metadata": {},
   "outputs": [
    {
     "name": "stdout",
     "output_type": "stream",
     "text": [
      "Instructions:\n",
      "Press 'c' for correct, 'i' for incorrect, 'n' to skip frame, 'q' to quit/save\n",
      "Labeled frame as: Correct ✅\n",
      "Labeled frame as: Correct ✅\n",
      "Labeled frame as: Correct ✅\n",
      "Labeled frame as: Correct ✅\n",
      "Labeled frame as: Correct ✅\n",
      "Labeled frame as: Correct ✅\n",
      "Labeled frame as: Correct ✅\n",
      "Labeled frame as: Correct ✅\n",
      "Labeled frame as: Correct ✅\n",
      "Labeled frame as: Correct ✅\n",
      "Labeled frame as: Correct ✅\n",
      "Labeled frame as: Correct ✅\n",
      "Labeled frame as: Correct ✅\n",
      "Labeled frame as: Correct ✅\n",
      "Labeled frame as: Correct ✅\n",
      "Labeled frame as: Correct ✅\n",
      "Labeled frame as: Correct ✅\n",
      "Labeled frame as: Correct ✅\n",
      "Labeled frame as: Correct ✅\n",
      "Labeled frame as: Correct ✅\n",
      "Labeled frame as: Correct ✅\n",
      "Labeled frame as: Correct ✅\n",
      "Labeled frame as: Correct ✅\n",
      "Labeled frame as: Correct ✅\n",
      "Labeled frame as: Correct ✅\n",
      "Labeled frame as: Correct ✅\n",
      "Labeled frame as: Correct ✅\n",
      "Labeled frame as: Correct ✅\n",
      "Labeled frame as: Correct ✅\n",
      "Labeled frame as: Correct ✅\n",
      "Labeled frame as: Correct ✅\n",
      "Labeled frame as: Correct ✅\n",
      "Labeled frame as: Correct ✅\n",
      "Labeled frame as: Correct ✅\n",
      "Labeled frame as: Correct ✅\n",
      "Labeled frame as: Correct ✅\n",
      "Labeled frame as: Correct ✅\n",
      "Labeled frame as: Correct ✅\n",
      "Labeled frame as: Correct ✅\n",
      "Labeled frame as: Correct ✅\n",
      "Labeled frame as: Correct ✅\n",
      "Labeled frame as: Correct ✅\n",
      "Labeled frame as: Correct ✅\n",
      "Labeled frame as: Correct ✅\n",
      "Labeled frame as: Correct ✅\n",
      "Labeled frame as: Correct ✅\n",
      "Labeled frame as: Correct ✅\n",
      "Labeled frame as: Correct ✅\n",
      "Labeled frame as: Correct ✅\n",
      "Labeled frame as: Correct ✅\n",
      "Labeled frame as: Correct ✅\n",
      "✅ Saved labeled dataset to: ../data/processed/squat_1_20250721_004912.csv\n"
     ]
    }
   ],
   "source": [
    "import cv2\n",
    "import mediapipe as mp\n",
    "import pandas as pd\n",
    "from datetime import datetime\n",
    "\n",
    "mp_pose = mp.solutions.pose\n",
    "pose = mp_pose.Pose()\n",
    "mp_draw = mp.solutions.drawing_utils\n",
    "\n",
    "cap = cv2.VideoCapture(\"squat_1.mp4\")\n",
    "data = []\n",
    "\n",
    "print(\"Instructions:\")\n",
    "print(\"Press 'c' for correct, 'i' for incorrect, 'n' to skip frame, 'q' to quit/save\")\n",
    "\n",
    "while cap.isOpened():\n",
    "    ret, frame = cap.read()\n",
    "    if not ret:\n",
    "        break\n",
    "\n",
    "    img_rgb = cv2.cvtColor(frame, cv2.COLOR_BGR2RGB)\n",
    "    result = pose.process(img_rgb)\n",
    "\n",
    "    if result.pose_landmarks:\n",
    "        mp_draw.draw_landmarks(frame, result.pose_landmarks, mp_pose.POSE_CONNECTIONS)\n",
    "\n",
    "    cv2.imshow(\"Posture Labeling\", cv2.resize(frame, (960, 540)))\n",
    "    key = cv2.waitKey(0) & 0xFF\n",
    "\n",
    "    if key == ord('q'):\n",
    "        break\n",
    "    elif key == ord('n'):\n",
    "        continue\n",
    "    elif key == ord('c'):\n",
    "        label = 1\n",
    "    elif key == ord('i'):\n",
    "        label = 0\n",
    "    else:\n",
    "        continue\n",
    "\n",
    "    if result.pose_landmarks:\n",
    "        row = []\n",
    "        for lm in result.pose_landmarks.landmark:\n",
    "            row.extend([lm.x, lm.y, lm.visibility])\n",
    "        row.append(label)\n",
    "        data.append(row)\n",
    "        print(f\"Labeled frame as: {'Correct ✅' if label else 'Incorrect ❌'}\")\n",
    "\n",
    "cap.release()\n",
    "cv2.destroyAllWindows()\n",
    "\n",
    "# Save labeled data to CSV\n",
    "cols = [f'{i}_{axis}' for i in range(33) for axis in ['x', 'y', 'v']] + ['label']\n",
    "df = pd.DataFrame(data, columns=cols)\n",
    "\n",
    "import os\n",
    "os.makedirs(\"../data/processed\", exist_ok=True)\n",
    "\n",
    "filename = f\"squat_1_{datetime.now().strftime('%Y%m%d_%H%M%S')}.csv\"\n",
    "df.to_csv(f\"../data/processed/{filename}\", index=False)\n",
    "print(\"✅ Saved labeled dataset to:\", f\"../data/processed/{filename}\")\n"
   ]
  }
 ],
 "metadata": {
  "kernelspec": {
   "display_name": "Python 3",
   "language": "python",
   "name": "python3"
  },
  "language_info": {
   "codemirror_mode": {
    "name": "ipython",
    "version": 3
   },
   "file_extension": ".py",
   "mimetype": "text/x-python",
   "name": "python",
   "nbconvert_exporter": "python",
   "pygments_lexer": "ipython3",
   "version": "3.12.2"
  }
 },
 "nbformat": 4,
 "nbformat_minor": 5
}
