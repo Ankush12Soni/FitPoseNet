{
 "cells": [
  {
   "cell_type": "markdown",
   "id": "331f3a76",
   "metadata": {},
   "source": [
    "Required Packages for extracting data from youtube videos"
   ]
  },
  {
   "cell_type": "code",
   "execution_count": 1,
   "id": "8d41fc0f",
   "metadata": {},
   "outputs": [
    {
     "name": "stdout",
     "output_type": "stream",
     "text": [
      "Requirement already satisfied: yt-dlp in c:\\users\\ankus\\appdata\\local\\programs\\python\\python312\\lib\\site-packages (2025.6.30)\n",
      "Note: you may need to restart the kernel to use updated packages.\n"
     ]
    },
    {
     "name": "stderr",
     "output_type": "stream",
     "text": [
      "WARNING: Ignoring invalid distribution ~atplotlib (c:\\Users\\ankus\\AppData\\Local\\Programs\\Python\\Python312\\Lib\\site-packages)\n",
      "WARNING: Ignoring invalid distribution ~atplotlib (c:\\Users\\ankus\\AppData\\Local\\Programs\\Python\\Python312\\Lib\\site-packages)\n",
      "WARNING: Ignoring invalid distribution ~atplotlib (c:\\Users\\ankus\\AppData\\Local\\Programs\\Python\\Python312\\Lib\\site-packages)\n"
     ]
    }
   ],
   "source": [
    "%pip install yt-dlp\n"
   ]
  },
  {
   "cell_type": "markdown",
   "id": "1680d701",
   "metadata": {},
   "source": [
    "Collecting Data For Correct and Incorrect Squats pose"
   ]
  },
  {
   "cell_type": "code",
   "execution_count": 2,
   "id": "abd17d2b",
   "metadata": {},
   "outputs": [
    {
     "name": "stdout",
     "output_type": "stream",
     "text": [
      "Downloaded: squat_10.mp4\n"
     ]
    }
   ],
   "source": [
    "import os\n",
    "\n",
    "video_url = \"https://youtu.be/gzd9gcsr4Bs?si=JJqa45uShBd-LuUq\"  # Example: squat\n",
    "video_filename = \"squat_10.mp4\"\n",
    "\n",
    "# Download best available mp4 video\n",
    "os.system(f'yt-dlp -f \"best[ext=mp4]\" -o \"{video_filename}\" {video_url}')\n",
    "print(\"Downloaded:\", video_filename)\n"
   ]
  },
  {
   "cell_type": "code",
   "execution_count": 7,
   "id": "5e8b8408",
   "metadata": {},
   "outputs": [
    {
     "name": "stdout",
     "output_type": "stream",
     "text": [
      "Controls:\n",
      "  Press 'c' → Correct posture\n",
      "  Press 'i' → Incorrect posture\n",
      "  Press 'n' → Skip frame\n",
      "  Press 'q' → Quit and save\n",
      "Labeled frame as: Correct\n",
      "Labeled frame as: Correct\n",
      "Labeled frame as: Correct\n",
      "Labeled frame as: Correct\n",
      "Labeled frame as: Correct\n",
      "Labeled frame as: Correct\n",
      "Labeled frame as: Correct\n",
      "Labeled frame as: Correct\n",
      "✅ Saved dataset to: squat_2.csv\n"
     ]
    }
   ],
   "source": [
    "import cv2\n",
    "import mediapipe as mp\n",
    "import pandas as pd\n",
    "\n",
    "# Setup MediaPipe Pose\n",
    "mp_pose = mp.solutions.pose\n",
    "pose = mp_pose.Pose()\n",
    "mp_draw = mp.solutions.drawing_utils\n",
    "\n",
    "# Load video\n",
    "cap = cv2.VideoCapture(\"squat_10.mp4\")\n",
    "data = []\n",
    "\n",
    "print(\"Controls:\")\n",
    "print(\"  Press 'c' → Correct posture\")\n",
    "print(\"  Press 'i' → Incorrect posture\")\n",
    "print(\"  Press 'n' → Skip frame\")\n",
    "print(\"  Press 'q' → Quit and save\")\n",
    "\n",
    "while cap.isOpened():\n",
    "    ret, frame = cap.read()\n",
    "    if not ret:\n",
    "        break\n",
    "\n",
    "    # Convert to RGB for MediaPipe\n",
    "    img_rgb = cv2.cvtColor(frame, cv2.COLOR_BGR2RGB)\n",
    "    result = pose.process(img_rgb)\n",
    "\n",
    "    # Draw pose landmarks\n",
    "    if result.pose_landmarks:\n",
    "        mp_draw.draw_landmarks(frame, result.pose_landmarks, mp_pose.POSE_CONNECTIONS)\n",
    "\n",
    "    # Show frame\n",
    "    cv2.imshow(\"Pose Labeling - squat_4.mp4\", cv2.resize(frame, (960, 540)))\n",
    "\n",
    "    # Wait for key\n",
    "    key = cv2.waitKey(0) & 0xFF\n",
    "    if key == ord('q'):\n",
    "        break\n",
    "    elif key == ord('n'):\n",
    "        continue\n",
    "    elif key == ord('c'):\n",
    "        label = 1\n",
    "    elif key == ord('i'):\n",
    "        label = 0\n",
    "    else:\n",
    "        continue\n",
    "\n",
    "    # Extract pose landmarks\n",
    "    if result.pose_landmarks:\n",
    "        row = []\n",
    "        for lm in result.pose_landmarks.landmark:\n",
    "            row.extend([lm.x, lm.y, lm.visibility])\n",
    "        row.append(label)\n",
    "        data.append(row)\n",
    "        print(f\"Labeled frame as: {'Correct' if label == 1 else 'Incorrect'}\")\n",
    "\n",
    "# Release resources\n",
    "cap.release()\n",
    "cv2.destroyAllWindows()\n",
    "\n",
    "# Save to CSV\n",
    "cols = [f'{i}_{axis}' for i in range(33) for axis in ['x', 'y', 'v']] + ['label']\n",
    "df = pd.DataFrame(data, columns=cols)\n",
    "df.to_csv(\"squat_6.csv\", index=False)\n",
    "\n",
    "print(\"✅ Saved dataset to: squat_2.csv\")\n"
   ]
  },
  {
   "cell_type": "code",
   "execution_count": 8,
   "id": "11673229",
   "metadata": {},
   "outputs": [
    {
     "name": "stdout",
     "output_type": "stream",
     "text": [
      "✅ All files merged into squat_final.csv\n"
     ]
    }
   ],
   "source": [
    "import pandas as pd\n",
    "import glob\n",
    "\n",
    "# Step 1: List of all CSV files to merge\n",
    "csv_files = [\n",
    "    \"squat_1.csv\",\n",
    "    \"squat_2.csv\",\n",
    "    \"squat_3.csv\",\n",
    "    \"squat_4.csv\",\n",
    "    \"squat_5.csv\",\n",
    "    \"squat_6.csv\"\n",
    "]\n",
    "\n",
    "# Step 2: Load and concatenate all CSVs\n",
    "dataframes = [pd.read_csv(file) for file in csv_files]\n",
    "merged_df = pd.concat(dataframes, ignore_index=True)\n",
    "\n",
    "# Step 3: Save to final merged CSV\n",
    "merged_df.to_csv(\"squat_final.csv\", index=False)\n",
    "\n",
    "print(\"✅ All files merged into squat_final.csv\")\n"
   ]
  }
 ],
 "metadata": {
  "kernelspec": {
   "display_name": "Python 3",
   "language": "python",
   "name": "python3"
  },
  "language_info": {
   "codemirror_mode": {
    "name": "ipython",
    "version": 3
   },
   "file_extension": ".py",
   "mimetype": "text/x-python",
   "name": "python",
   "nbconvert_exporter": "python",
   "pygments_lexer": "ipython3",
   "version": "3.12.2"
  }
 },
 "nbformat": 4,
 "nbformat_minor": 5
}
